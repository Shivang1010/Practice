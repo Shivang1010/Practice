{
 "cells": [
  {
   "cell_type": "code",
   "execution_count": 5,
   "metadata": {},
   "outputs": [
    {
     "name": "stdout",
     "output_type": "stream",
     "text": [
      "Enter your namess\n",
      "ss\n"
     ]
    }
   ],
   "source": [
    "#take input in python\n",
    "a=input(\"Enter your name\")\n",
    "\n",
    "print(a)"
   ]
  },
  {
   "cell_type": "code",
   "execution_count": 9,
   "metadata": {},
   "outputs": [
    {
     "name": "stdout",
     "output_type": "stream",
     "text": [
      "ss\n",
      "<class 'str'>\n"
     ]
    }
   ],
   "source": [
    "print(a)\n",
    "print(type(a))"
   ]
  },
  {
   "cell_type": "code",
   "execution_count": 11,
   "metadata": {},
   "outputs": [
    {
     "name": "stdout",
     "output_type": "stream",
     "text": [
      "enter number1 2\n"
     ]
    }
   ],
   "source": [
    "var1,var2=input(\"enter number\").split()"
   ]
  },
  {
   "cell_type": "code",
   "execution_count": 13,
   "metadata": {},
   "outputs": [
    {
     "name": "stdout",
     "output_type": "stream",
     "text": [
      "1 2 3\n"
     ]
    }
   ],
   "source": [
    "var1,var2,var3=map(int,input().split())"
   ]
  },
  {
   "cell_type": "code",
   "execution_count": 20,
   "metadata": {},
   "outputs": [
    {
     "name": "stdout",
     "output_type": "stream",
     "text": [
      "enter two valueasfaasda 23\n"
     ]
    }
   ],
   "source": [
    "x,y=[x for x in input(\"enter two value\").split()]\n"
   ]
  },
  {
   "cell_type": "code",
   "execution_count": 21,
   "metadata": {},
   "outputs": [
    {
     "name": "stdout",
     "output_type": "stream",
     "text": [
      "20-22-1234"
     ]
    }
   ],
   "source": [
    "print(\"20\",\"22\",sep=\"-\",end=\"-1234\")"
   ]
  },
  {
   "cell_type": "code",
   "execution_count": 23,
   "metadata": {},
   "outputs": [
    {
     "name": "stdout",
     "output_type": "stream",
     "text": [
      "14\n"
     ]
    }
   ],
   "source": [
    "x=9\n",
    "print(x + 5)"
   ]
  },
  {
   "cell_type": "code",
   "execution_count": 31,
   "metadata": {},
   "outputs": [
    {
     "name": "stdout",
     "output_type": "stream",
     "text": [
      "js\n",
      "xyz\n"
     ]
    }
   ],
   "source": [
    "def f():\n",
    "    k=\"xyz\"\n",
    "    print(k)\n",
    "b='js'\n",
    "print(b)\n",
    "f()"
   ]
  },
  {
   "cell_type": "code",
   "execution_count": 36,
   "metadata": {},
   "outputs": [
    {
     "name": "stdout",
     "output_type": "stream",
     "text": [
      "<class 'int'>\n",
      "<class 'str'>\n",
      "<class 'str'>\n",
      "<class 'str'>\n",
      "<class 'float'>\n",
      "<class 'int'>\n"
     ]
    }
   ],
   "source": [
    "a=5\n",
    "b=\"csasads\"\n",
    "c='s'\n",
    "d='sasd'\n",
    "e=93.32\n",
    "f=10289012983218931038219183290132823213223121231233234334859834782309238904842980943849028043\n",
    "print(type(a))\n",
    "print(type(b))\n",
    "print(type(c))\n",
    "print(type(d))\n",
    "print(type(e))\n",
    "print(type(f))"
   ]
  },
  {
   "cell_type": "code",
   "execution_count": 37,
   "metadata": {},
   "outputs": [
    {
     "name": "stdout",
     "output_type": "stream",
     "text": [
      "{34: 'value', 'key': 1}\n"
     ]
    }
   ],
   "source": [
    "a = {34:'value','key':1}\n",
    "print((a))"
   ]
  },
  {
   "cell_type": "code",
   "execution_count": 50,
   "metadata": {},
   "outputs": [
    {
     "name": "stdout",
     "output_type": "stream",
     "text": [
      "T\n",
      "g\n",
      "q\n",
      "This is a stringabcdefghijklmnopq\n",
      "T\n",
      "his is a stringabcdefghijklmnopq\n",
      "his is a stringabcdefghijklmnopq\n",
      "hstafkp\n"
     ]
    }
   ],
   "source": [
    "string1 =\"This is a stringabcdefghijklmnopq\"\n",
    "print(string1[0])#fisrt\n",
    "print(string1[22])\n",
    "print(string1[-1])#last\n",
    "print(string1[::1])\n",
    "print(string1[:1])\n",
    "print(string1[1::])\n",
    "print(string1[1:])\n",
    "print(string1[1::5])"
   ]
  },
  {
   "cell_type": "code",
   "execution_count": 61,
   "metadata": {},
   "outputs": [
    {
     "name": "stdout",
     "output_type": "stream",
     "text": [
      "[2, 3, 4, 5, '2', '324243sfedsfd', 18.1]\n"
     ]
    }
   ],
   "source": [
    "list1=[2,3,4,5,'2',\"324243sfedsfd\"]\n",
    "list2=[2,3,4,5,'2',\"324243sfedsfd\"]\n",
    "list1.append(18.1)\n",
    "print(list1)"
   ]
  },
  {
   "cell_type": "code",
   "execution_count": 62,
   "metadata": {},
   "outputs": [
    {
     "name": "stdout",
     "output_type": "stream",
     "text": [
      "[2, 232, 3, 4, 5, '2', '324243sfedsfd', 18.1]\n"
     ]
    }
   ],
   "source": [
    "list1.insert(1,232)\n",
    "print(list1)"
   ]
  },
  {
   "cell_type": "code",
   "execution_count": 63,
   "metadata": {},
   "outputs": [
    {
     "name": "stdout",
     "output_type": "stream",
     "text": [
      "[2, 3, 4, 5, '2', '324243sfedsfd', 18.1]\n"
     ]
    }
   ],
   "source": [
    "del list1[1]\n",
    "print(list1)"
   ]
  },
  {
   "cell_type": "code",
   "execution_count": 64,
   "metadata": {},
   "outputs": [
    {
     "name": "stdout",
     "output_type": "stream",
     "text": [
      "[2, 3, 4, 5, '2', '324243sfedsfd', 18.1]\n"
     ]
    }
   ],
   "source": [
    "del list2\n",
    "print(list1)"
   ]
  },
  {
   "cell_type": "code",
   "execution_count": 74,
   "metadata": {},
   "outputs": [],
   "source": [
    "list3=[3,3,3,3,3,3,5,'2',\"324243sfedsfd\"]"
   ]
  },
  {
   "cell_type": "code",
   "execution_count": 75,
   "metadata": {},
   "outputs": [],
   "source": [
    "x=max(list1,list3)"
   ]
  },
  {
   "cell_type": "code",
   "execution_count": 76,
   "metadata": {},
   "outputs": [
    {
     "name": "stdout",
     "output_type": "stream",
     "text": [
      "[3, 3, 3, 3, 3, 3, 5, '2', '324243sfedsfd']\n"
     ]
    }
   ],
   "source": [
    "print(x)"
   ]
  },
  {
   "cell_type": "markdown",
   "metadata": {},
   "source": [
    "lis"
   ]
  },
  {
   "cell_type": "code",
   "execution_count": 77,
   "metadata": {},
   "outputs": [
    {
     "data": {
      "text/plain": [
       "'324243sfedsfd'"
      ]
     },
     "execution_count": 77,
     "metadata": {},
     "output_type": "execute_result"
    }
   ],
   "source": [
    "list3.pop()"
   ]
  },
  {
   "cell_type": "code",
   "execution_count": 78,
   "metadata": {},
   "outputs": [
    {
     "name": "stdout",
     "output_type": "stream",
     "text": [
      "[3, 3, 3, 3, 3, 3, 5, '2']\n"
     ]
    }
   ],
   "source": [
    "print(list3)"
   ]
  },
  {
   "cell_type": "code",
   "execution_count": 84,
   "metadata": {},
   "outputs": [
    {
     "ename": "NameError",
     "evalue": "name 'reverse' is not defined",
     "output_type": "error",
     "traceback": [
      "\u001b[1;31m---------------------------------------------------------------------------\u001b[0m",
      "\u001b[1;31mNameError\u001b[0m                                 Traceback (most recent call last)",
      "\u001b[1;32m<ipython-input-84-dcafcdbdb4a4>\u001b[0m in \u001b[0;36m<module>\u001b[1;34m\u001b[0m\n\u001b[1;32m----> 1\u001b[1;33m \u001b[0mreverse\u001b[0m\u001b[1;33m(\u001b[0m\u001b[1;33m)\u001b[0m\u001b[1;33m\u001b[0m\u001b[1;33m\u001b[0m\u001b[0m\n\u001b[0m",
      "\u001b[1;31mNameError\u001b[0m: name 'reverse' is not defined"
     ]
    }
   ],
   "source": [
    "reverse()"
   ]
  },
  {
   "cell_type": "code",
   "execution_count": 86,
   "metadata": {},
   "outputs": [
    {
     "name": "stdout",
     "output_type": "stream",
     "text": [
      "{}\n"
     ]
    }
   ],
   "source": [
    "dict={}\n",
    "print(dict)"
   ]
  },
  {
   "cell_type": "code",
   "execution_count": 87,
   "metadata": {},
   "outputs": [
    {
     "name": "stdout",
     "output_type": "stream",
     "text": [
      "{'color': 'pink', 'shape': 'square'}\n",
      "{'color': 'pink', 'shape': 'square', 'fav color': 'pink'}\n"
     ]
    }
   ],
   "source": [
    "dict1 = {\"color\":\"pink\", \"shape\":\"square\"}\n",
    "print(dict1)\n",
    "\n",
    "#creating a dictionary with duplicate values\n",
    "dict1 = {\"color\":\"pink\", \"shape\":\"square\", \"fav color\":\"pink\"}\n",
    "print(dict1)"
   ]
  },
  {
   "cell_type": "code",
   "execution_count": 89,
   "metadata": {},
   "outputs": [
    {
     "name": "stdout",
     "output_type": "stream",
     "text": [
      "{'color': 'Blue', 'Shape': 'Round'}\n"
     ]
    }
   ],
   "source": [
    "dict1 = {}\n",
    "dict2 = {\"color\": \"Blue\", \"Shape\": \"Round\"}\n",
    "dict3 = {\"size\":\"small\", \"length\":14, \"weight\":53}\n",
    "\n",
    "#appending to a new dictionary\n",
    "dict1.update(dict2)\n",
    "print (dict1)"
   ]
  },
  {
   "cell_type": "code",
   "execution_count": 98,
   "metadata": {},
   "outputs": [
    {
     "name": "stdout",
     "output_type": "stream",
     "text": [
      "['s', 'e', 'd']\n"
     ]
    }
   ],
   "source": [
    "from array import * \n",
    "a=('sa',['s','e','d'])\n",
    "print(a[1])"
   ]
  },
  {
   "cell_type": "code",
   "execution_count": 94,
   "metadata": {},
   "outputs": [
    {
     "data": {
      "text/plain": [
       "30"
      ]
     },
     "execution_count": 94,
     "metadata": {},
     "output_type": "execute_result"
    }
   ],
   "source": [
    "from operator import*\n",
    "a=10\n",
    "b=20\n",
    "add(a,b)"
   ]
  },
  {
   "cell_type": "code",
   "execution_count": 101,
   "metadata": {},
   "outputs": [
    {
     "name": "stdout",
     "output_type": "stream",
     "text": [
      "Equal\n"
     ]
    }
   ],
   "source": [
    "num1=45\n",
    "num2=45\n",
    "if(num1<num2):\n",
    "    print(num2)\n",
    "elif(num1>num2):\n",
    "    print(num1)\n",
    "else:\n",
    "    print('Equal')"
   ]
  },
  {
   "cell_type": "code",
   "execution_count": 102,
   "metadata": {},
   "outputs": [
    {
     "name": "stdout",
     "output_type": "stream",
     "text": [
      "Pass\n"
     ]
    }
   ],
   "source": [
    "#(onfalse,ontrue) condition in tuple\n",
    "score=54\n",
    "\n",
    "result=(\"Fail\",\"Pass\")[score>50]\n",
    "print(result)"
   ]
  },
  {
   "cell_type": "code",
   "execution_count": 103,
   "metadata": {},
   "outputs": [
    {
     "name": "stdout",
     "output_type": "stream",
     "text": [
      "Pass\n"
     ]
    }
   ],
   "source": [
    "score=99\n",
    "print({True:\"Pass\",False:\"Fail\"}[score>80])"
   ]
  },
  {
   "cell_type": "code",
   "execution_count": 104,
   "metadata": {},
   "outputs": [
    {
     "name": "stdout",
     "output_type": "stream",
     "text": [
      "21\n"
     ]
    }
   ],
   "source": [
    "number=7\n",
    "i=0\n",
    "sum=0\n",
    "while(i<number):\n",
    "    sum=sum+i\n",
    "    i=i+1\n",
    "print(sum)"
   ]
  },
  {
   "cell_type": "code",
   "execution_count": 106,
   "metadata": {},
   "outputs": [
    {
     "name": "stdout",
     "output_type": "stream",
     "text": [
      "21\n"
     ]
    }
   ],
   "source": [
    "number=7\n",
    "i=0\n",
    "sum=0\n",
    "while(i<number):\n",
    "    sum+=i\n",
    "    i+=1\n",
    "print(sum)"
   ]
  },
  {
   "cell_type": "code",
   "execution_count": 108,
   "metadata": {},
   "outputs": [
    {
     "name": "stdout",
     "output_type": "stream",
     "text": [
      "2\n",
      "4\n",
      "6\n",
      "8\n",
      "10\n"
     ]
    }
   ],
   "source": [
    "for i in range(2,12,2):\n",
    "    print(i)"
   ]
  },
  {
   "cell_type": "code",
   "execution_count": 110,
   "metadata": {},
   "outputs": [
    {
     "name": "stdout",
     "output_type": "stream",
     "text": [
      "1\n",
      "1\n",
      "1\n",
      "1\n",
      "\n",
      "2\n",
      "2\n",
      "2\n",
      "2\n",
      "\n",
      "3\n",
      "3\n",
      "3\n",
      "3\n",
      "\n",
      "4\n",
      "4\n",
      "4\n",
      "4\n",
      "\n"
     ]
    }
   ],
   "source": [
    "for i in range(1,5):\n",
    "    for j in range(1,5):\n",
    "        print(i)\n",
    "    print()"
   ]
  },
  {
   "cell_type": "code",
   "execution_count": 111,
   "metadata": {},
   "outputs": [
    {
     "name": "stdout",
     "output_type": "stream",
     "text": [
      "1 1 1 1 \n",
      "2 2 2 2 \n",
      "3 3 3 3 \n",
      "4 4 4 4 \n"
     ]
    }
   ],
   "source": [
    "for i in range(1,5):\n",
    "    for j in range(1,5):\n",
    "        print(i,end=\" \")\n",
    "    print()"
   ]
  },
  {
   "cell_type": "code",
   "execution_count": 113,
   "metadata": {},
   "outputs": [
    {
     "name": "stdout",
     "output_type": "stream",
     "text": [
      "0\n",
      "\n",
      "0\n",
      "1\n",
      "\n",
      "0\n",
      "1\n",
      "2\n",
      "\n",
      "0\n",
      "1\n",
      "2\n",
      "3\n",
      "\n"
     ]
    }
   ],
   "source": [
    "for i in range(1,5):\n",
    "    for j in range(i):\n",
    "        print(j)\n",
    "    print()"
   ]
  },
  {
   "cell_type": "code",
   "execution_count": 114,
   "metadata": {},
   "outputs": [
    {
     "name": "stdout",
     "output_type": "stream",
     "text": [
      "0 \n",
      "0 1 \n",
      "0 1 2 \n",
      "0 1 2 3 \n"
     ]
    }
   ],
   "source": [
    "for i in range(1,5):\n",
    "    for j in range(i):\n",
    "        print(j,end=\" \")\n",
    "    print()    \n",
    "    "
   ]
  },
  {
   "cell_type": "code",
   "execution_count": 116,
   "metadata": {},
   "outputs": [
    {
     "name": "stdout",
     "output_type": "stream",
     "text": [
      "5\n",
      "1\n",
      "2\n",
      "3\n",
      "4\n"
     ]
    }
   ],
   "source": [
    "n=int(input())\n",
    "for i in range(1,n):\n",
    "    print (i)"
   ]
  },
  {
   "cell_type": "code",
   "execution_count": 124,
   "metadata": {},
   "outputs": [
    {
     "name": "stdout",
     "output_type": "stream",
     "text": [
      "NA\n",
      "NA\n",
      "NA\n",
      "NA\n",
      "NA\n",
      "NA\n",
      "NA\n"
     ]
    }
   ],
   "source": [
    "a='ghghghg'\n",
    "for i in a:\n",
    "    if(i=='A'):\n",
    "        print(\"A\")\n",
    "        #break\n",
    "    else:\n",
    "        print(\"NA\")\n",
    "        "
   ]
  },
  {
   "cell_type": "code",
   "execution_count": 135,
   "metadata": {},
   "outputs": [
    {
     "name": "stdout",
     "output_type": "stream",
     "text": [
      "<list_reverseiterator object at 0x00000163C7A743C8>\n",
      "[5, 5, 6, 6, 4, 3, 2, 5, 6, 78, 2, 3, 4, 56]\n"
     ]
    }
   ],
   "source": [
    "list=[5,5,6,6,4,3,2,5,6,78,2,3,4,56]\n",
    "obj=[]\n",
    "obj=reversed(list)\n",
    "print(obj)\n",
    "print(list)\n",
    "#print(list(obj))"
   ]
  },
  {
   "cell_type": "code",
   "execution_count": 136,
   "metadata": {},
   "outputs": [
    {
     "name": "stdout",
     "output_type": "stream",
     "text": [
      "10\n"
     ]
    }
   ],
   "source": [
    "#function basic\n",
    "def add(num1,num2):\n",
    "    res=num1+num2\n",
    "    print(res)\n",
    "add(5,5)"
   ]
  },
  {
   "cell_type": "code",
   "execution_count": 138,
   "metadata": {},
   "outputs": [
    {
     "name": "stdout",
     "output_type": "stream",
     "text": [
      "59\n"
     ]
    }
   ],
   "source": [
    "def add(num1,num2):\n",
    "    return num1+num2\n",
    "res=add(54,5)\n",
    "print(res)"
   ]
  },
  {
   "cell_type": "code",
   "execution_count": 142,
   "metadata": {},
   "outputs": [
    {
     "name": "stdout",
     "output_type": "stream",
     "text": [
      "[275, 38, 567, 97, 30]\n",
      "76\n"
     ]
    }
   ],
   "source": [
    "list1=[62,45,24,76,35]\n",
    "list2=[275,38,567,97,30]\n",
    "list3=[10,39,21,87,90]\n",
    "list4=[59,17,91,25,789]\n",
    "list5=[49,589,235,47,76]\n",
    "print(max(list1,list2,list3))\n",
    "print(max(list1))\n",
    "\n"
   ]
  },
  {
   "cell_type": "code",
   "execution_count": 145,
   "metadata": {},
   "outputs": [
    {
     "name": "stdout",
     "output_type": "stream",
     "text": [
      "Ikasmkas\n",
      "amaskdsmalkmdsalmdmsakldsammdasllksadmm\n"
     ]
    }
   ],
   "source": [
    "#inheritace\n",
    "#parentclass\n",
    "class Car:\n",
    "    length='40cm'\n",
    "    def drive(self):#parentclass\n",
    "        print(\"Ikasmkas\")\n",
    "#childclass\n",
    "class Racecar(Car):\n",
    "    def rashdriver(self):\n",
    "        print(\"amaskdsmalkmdsalmdmsakldsammdasllksadmm\")\n",
    "maruti = Racecar()\n",
    "maruti.drive() #accessingparent classs method\n",
    "maruti.rashdriver() #accessing child class method"
   ]
  },
  {
   "cell_type": "code",
   "execution_count": 151,
   "metadata": {},
   "outputs": [
    {
     "name": "stdout",
     "output_type": "stream",
     "text": [
      "95\n",
      "50.24\n"
     ]
    }
   ],
   "source": [
    "#poymorphism in userdefined class\n",
    "\n",
    "class Rectangle:\n",
    "    length=5\n",
    "    breadth=19\n",
    "    def calculate(self):\n",
    "        return self.length*self.breadth\n",
    "class Circle:\n",
    "    radius=4\n",
    "    def calculate(self):\n",
    "        return 3.14*self.radius*self.radius\n",
    "rec=Rectangle()\n",
    "cir=Circle()\n",
    "print(rec.calculate())\n",
    "print(cir.calculate())"
   ]
  },
  {
   "cell_type": "code",
   "execution_count": 152,
   "metadata": {},
   "outputs": [
    {
     "name": "stdout",
     "output_type": "stream",
     "text": [
      "16\n",
      "1133.54\n"
     ]
    }
   ],
   "source": [
    "#abstraction\n",
    "\n",
    "from abc import ABC\n",
    "class Shape(ABC):\n",
    "    def calculate(self):\n",
    "        pass\n",
    "class Rectangle(Shape):\n",
    "    length=8\n",
    "    breadth=2\n",
    "    def calculate(self):\n",
    "        return self.length*self.breadth\n",
    "class Circle(Shape):\n",
    "    radius=19\n",
    "    def calculate(self):\n",
    "        return 3.14*self.radius*self.radius\n",
    "\n",
    "rec=Rectangle()\n",
    "cir=Circle()\n",
    "print(rec.calculate())\n",
    "print(cir.calculate())"
   ]
  },
  {
   "cell_type": "code",
   "execution_count": 157,
   "metadata": {},
   "outputs": [
    {
     "name": "stdout",
     "output_type": "stream",
     "text": [
      "I\n",
      "vowel\n"
     ]
    }
   ],
   "source": [
    "#Python program to check for vowel\n",
    "def vowel(ch):\n",
    "    if(ch=='a'or ch=='e' or ch=='i' or ch=='o' or ch == 'u'or ch=='A' or ch=='E' or ch=='O'or ch=='U' or ch=='I'):\n",
    "        print('vowel')\n",
    "    else:\n",
    "        print('consonent')\n",
    "ch=input()\n",
    "vowel(ch)"
   ]
  },
  {
   "cell_type": "code",
   "execution_count": 164,
   "metadata": {},
   "outputs": [
    {
     "name": "stdout",
     "output_type": "stream",
     "text": [
      "a\n",
      "character\n",
      "vowel\n"
     ]
    }
   ],
   "source": [
    "#character or alphabet\n",
    "def check(ch):\n",
    "    if((ch>='a' and ch<='z')or (ch>=\"A\" and ch<='Z')):\n",
    "        print(\"character\")\n",
    "        if(ch=='a'or ch=='e' or ch=='i' or ch=='o' or ch == 'u'or ch=='A' or ch=='E' or ch=='O'or ch=='U' or ch=='I'):\n",
    "            print('vowel')\n",
    "        else:\n",
    "            print('consonent')\n",
    "    elif(ch>='0' and ch<='9'):\n",
    "        print(\"number\")\n",
    "    else:\n",
    "        print('special')\n",
    "ch=input()\n",
    "check(ch)"
   ]
  },
  {
   "cell_type": "code",
   "execution_count": 170,
   "metadata": {},
   "outputs": [
    {
     "name": "stdout",
     "output_type": "stream",
     "text": [
      "#\n",
      "Ascii of # is 35\n"
     ]
    }
   ],
   "source": [
    "#print ascii value of character\n",
    "def asci(ch):\n",
    "    print(\"Ascii of\",ch,\"is\",ord(ch))\n",
    "ch=input()\n",
    "asci(ch)"
   ]
  },
  {
   "cell_type": "code",
   "execution_count": 173,
   "metadata": {},
   "outputs": [
    {
     "name": "stdout",
     "output_type": "stream",
     "text": [
      "A\n",
      "upper\n"
     ]
    }
   ],
   "source": [
    "#uppercaselowercase\n",
    "def checkcase(ch):\n",
    "    if(ch>='a'and ch<='z'):\n",
    "        print(\"lower\")\n",
    "    elif(ch>=\"A\" and ch<=\"Z\"):\n",
    "        print(\"upper\")\n",
    "ch=input()\n",
    "checkcase(ch)"
   ]
  },
  {
   "cell_type": "code",
   "execution_count": 176,
   "metadata": {},
   "outputs": [
    {
     "name": "stdout",
     "output_type": "stream",
     "text": [
      "-4\n",
      "negative\n"
     ]
    }
   ],
   "source": [
    "#positivenegative\n",
    "ch=int(input())\n",
    "if(ch>0):\n",
    "    print(\"positive\")\n",
    "else:\n",
    "    print('negative')\n",
    "        "
   ]
  },
  {
   "cell_type": "code",
   "execution_count": 188,
   "metadata": {},
   "outputs": [
    {
     "name": "stdout",
     "output_type": "stream",
     "text": [
      "32424247\n",
      "odd\n"
     ]
    }
   ],
   "source": [
    "#even odd\n",
    "def iseven(ch):\n",
    "    return(ch & 1)\n",
    "def check(ch):\n",
    "    if(iseven(ch)==0):\n",
    "        print(\"even\")\n",
    "    else:\n",
    "        print(\"odd\")\n",
    "ch=int(input())\n",
    "check(ch)"
   ]
  },
  {
   "cell_type": "code",
   "execution_count": 189,
   "metadata": {},
   "outputs": [
    {
     "name": "stdout",
     "output_type": "stream",
     "text": [
      "23\n",
      "45\n",
      "23 45\n",
      "swap\n",
      "45 23\n"
     ]
    }
   ],
   "source": [
    "#swap two variable\n",
    "\n",
    "def swap(ch1,ch2):\n",
    "    temp=ch1\n",
    "    ch1=ch2\n",
    "    ch2=temp\n",
    "    print(ch1,ch2)\n",
    "ch1=int(input())\n",
    "ch2=int(input())\n",
    "print(ch1,ch2)\n",
    "print('swap')\n",
    "swap(ch1,ch2)"
   ]
  },
  {
   "cell_type": "code",
   "execution_count": 193,
   "metadata": {},
   "outputs": [
    {
     "name": "stdout",
     "output_type": "stream",
     "text": [
      "23\n",
      "45\n",
      "23 45\n",
      "swap\n",
      "45 23\n"
     ]
    }
   ],
   "source": [
    "#swap without third variable\n",
    "\n",
    "def swap(ch1,ch2):\n",
    "    ch1=ch1+ch2\n",
    "    ch2=ch1-ch2\n",
    "    ch1=ch1-ch2\n",
    "    print(ch1,ch2)\n",
    "    \n",
    "ch1=int(input())\n",
    "ch2=int(input())\n",
    "print(ch1,ch2)\n",
    "print(\"swap\")\n",
    "swap(ch1,ch2)"
   ]
  },
  {
   "cell_type": "code",
   "execution_count": 199,
   "metadata": {},
   "outputs": [
    {
     "name": "stdout",
     "output_type": "stream",
     "text": [
      "enter first number. :- 21\n",
      "enter second number. :- 7\n",
      "lcmis 21\n"
     ]
    }
   ],
   "source": [
    "#lcm\n",
    "a=int(input(\"enter first number. :- \"))\n",
    "b=int(input(\"enter second number. :- \"))\n",
    "if(a>b):\n",
    "    lcmfound=a\n",
    "else:\n",
    "    lcmfound=b\n",
    "while(1):\n",
    "    if(lcmfound%a==0 and lcmfound%b==0):\n",
    "        print(\"lcmis\",lcmfound)\n",
    "        break\n",
    "    lcmfound=lcmfound+1\n",
    "        \n",
    "    "
   ]
  },
  {
   "cell_type": "code",
   "execution_count": 201,
   "metadata": {},
   "outputs": [
    {
     "name": "stdout",
     "output_type": "stream",
     "text": [
      "28\n",
      "20\n",
      "gcd is  4\n"
     ]
    }
   ],
   "source": [
    "#gcd\n",
    "gcd=0\n",
    "a=int(input())\n",
    "b=int(input())\n",
    "i=1\n",
    "while(i<=a and i<=b):\n",
    "    if((a%i==0) and (b%i==0)):\n",
    "        gcd=i\n",
    "    i=i+1\n",
    "print(\"gcd is \", gcd)"
   ]
  },
  {
   "cell_type": "code",
   "execution_count": 1,
   "metadata": {},
   "outputs": [
    {
     "name": "stdout",
     "output_type": "stream",
     "text": [
      "12\n",
      "3\n",
      "5\n",
      "a\n"
     ]
    }
   ],
   "source": [
    "#larget among 3\n",
    "def largest(a,b,c):\n",
    "    if(a==b and a==c):\n",
    "        print(\"Equal\")\n",
    "    if(a>b and a>c):\n",
    "        print(\"a\")\n",
    "    elif(b>a and b>c):\n",
    "        print(\"b\")\n",
    "    elif(c>a and c>b):\n",
    "        print(\"c\")\n",
    "        \n",
    "a=int(input())\n",
    "b=int(input())\n",
    "c=int(input())\n",
    "largest(a,b,c)\n"
   ]
  },
  {
   "cell_type": "code",
   "execution_count": 2,
   "metadata": {},
   "outputs": [
    {
     "name": "stdout",
     "output_type": "stream",
     "text": [
      "hello\n"
     ]
    }
   ],
   "source": [
    "print('hello')"
   ]
  },
  {
   "cell_type": "code",
   "execution_count": 15,
   "metadata": {},
   "outputs": [
    {
     "name": "stdout",
     "output_type": "stream",
     "text": [
      "23\n",
      "number of digits 2\n"
     ]
    }
   ],
   "source": [
    "#count number of digit\n",
    "\n",
    "n=int(input())\n",
    "count=0\n",
    "while(n>0):\n",
    "    n=int(n/10)\n",
    "    count=count+1\n",
    "print(\"number of digits\",count)"
   ]
  },
  {
   "cell_type": "code",
   "execution_count": 22,
   "metadata": {},
   "outputs": [
    {
     "name": "stdout",
     "output_type": "stream",
     "text": [
      "719\n",
      "sum is  17\n"
     ]
    }
   ],
   "source": [
    "#sum of digits\n",
    "\n",
    "n=int(input())\n",
    "sum=0\n",
    "while(n>0):\n",
    "    a=int(n%10)\n",
    "    sum=sum+a\n",
    "    n=n/10\n",
    "print(\"sum is \", sum)"
   ]
  },
  {
   "cell_type": "code",
   "execution_count": 29,
   "metadata": {},
   "outputs": [
    {
     "name": "stdout",
     "output_type": "stream",
     "text": [
      "9\n",
      "sum is  45\n"
     ]
    }
   ],
   "source": [
    "#sum of natural number n\n",
    "\n",
    "def sum(n):\n",
    "    sume=0\n",
    "    for i in range(1,n+1):\n",
    "        sume=sume+i\n",
    "    print(\"sum is \", sume)\n",
    "n=int(input())\n",
    "sum(n)"
   ]
  },
  {
   "cell_type": "code",
   "execution_count": 1,
   "metadata": {},
   "outputs": [
    {
     "name": "stdout",
     "output_type": "stream",
     "text": [
      "2\n",
      "4\n",
      "9\n"
     ]
    }
   ],
   "source": [
    "#sum of number in the given range\n",
    "\n",
    "start=int(input())\n",
    "end=int(input())\n",
    "sum=0\n",
    "for i in range(start,end+1,1):\n",
    "    sum=sum+i\n",
    "print(sum)"
   ]
  },
  {
   "cell_type": "code",
   "execution_count": 2,
   "metadata": {},
   "outputs": [
    {
     "name": "stdout",
     "output_type": "stream",
     "text": [
      "1234\n",
      "4321\n"
     ]
    }
   ],
   "source": [
    "#reverse a number\n",
    "\n",
    "n=int(input())\n",
    "rev=0\n",
    "rem=0\n",
    "while(n!=0):\n",
    "    rem=n%10\n",
    "    rev=rev*10+rem\n",
    "    n=int(n/10)\n",
    "print(rev)"
   ]
  },
  {
   "cell_type": "code",
   "execution_count": 5,
   "metadata": {},
   "outputs": [
    {
     "name": "stdout",
     "output_type": "stream",
     "text": [
      "5\n",
      "120\n"
     ]
    }
   ],
   "source": [
    "#factorial of a number\n",
    "\n",
    "def facto(n):\n",
    "    if(n==0):\n",
    "        return 1\n",
    "    fact=1\n",
    "    for i in range(1,n+1):\n",
    "        fact=fact*i\n",
    "    return fact\n",
    "n=int(input())\n",
    "if(n<0):\n",
    "    print(\"invalid\")\n",
    "else:\n",
    "    print(facto(n))"
   ]
  },
  {
   "cell_type": "code",
   "execution_count": 12,
   "metadata": {},
   "outputs": [
    {
     "name": "stdout",
     "output_type": "stream",
     "text": [
      "1000\n",
      "0 1 1 2 3 5 8 13 21 34 55 89 144 233 377 610 987 "
     ]
    }
   ],
   "source": [
    "#fibonaci series\n",
    "\n",
    "n=int(input())\n",
    "a=0\n",
    "b=1\n",
    "sum=0\n",
    "while(sum<=n):\n",
    "    print(sum,end=\" \")\n",
    "    a=b\n",
    "    b=sum\n",
    "    sum=a+b"
   ]
  },
  {
   "cell_type": "code",
   "execution_count": 13,
   "metadata": {},
   "outputs": [
    {
     "name": "stdout",
     "output_type": "stream",
     "text": [
      "2004\n",
      "LEAP\n"
     ]
    }
   ],
   "source": [
    "#leap year program\n",
    "year=int(input())\n",
    "if(year%4==0):\n",
    "    if(year%100==0):\n",
    "        if(year%400==0):\n",
    "            print(\"LEAP YEAR\")\n",
    "        else:\n",
    "            print(\"NOTLEAP\")\n",
    "    else:\n",
    "        print(\"LEAP\")\n",
    "else:\n",
    "    print(\"NOTLEAP\")"
   ]
  },
  {
   "cell_type": "code",
   "execution_count": 3,
   "metadata": {},
   "outputs": [
    {
     "name": "stdout",
     "output_type": "stream",
     "text": [
      "Enter a number: 44\n",
      "44 is not a prime number\n"
     ]
    }
   ],
   "source": [
    "#prime or not\n",
    "# To take input from the user\n",
    "num = int(input(\"Enter a number: \"))\n",
    "\n",
    "# prime numbers are greater than 1\n",
    "if num > 1:\n",
    "   # check for factors\n",
    "   for i in range(2,num):\n",
    "       if (num % i) == 0:\n",
    "           print(num,\"is not a prime number\")\n",
    "          # print(i,\"times\",num//i,\"is\",num)\n",
    "           break\n",
    "   else:\n",
    "       print(num,\"is a prime number\")\n",
    "       \n",
    "# if input number is less than\n",
    "# or equal to 1, it is not prime\n",
    "else:\n",
    "   print(num,\"is not a prime number\")"
   ]
  },
  {
   "cell_type": "code",
   "execution_count": 13,
   "metadata": {},
   "outputs": [
    {
     "name": "stdout",
     "output_type": "stream",
     "text": [
      "Enter number:123321\n",
      "The number is a palindrome!\n"
     ]
    }
   ],
   "source": [
    "#check for palindrome\n",
    " \n",
    "n=int(input(\"Enter number:\"))\n",
    "temp=n\n",
    "rev=0\n",
    "while(n>0):\n",
    "    dig=n%10\n",
    "    rev=rev*10+dig\n",
    "    n=n//10\n",
    "if(temp==rev):\n",
    "    print(\"The number is a palindrome!\")\n",
    "else:\n",
    "    print(\"The number isn't a palindrome!\")"
   ]
  },
  {
   "cell_type": "code",
   "execution_count": 12,
   "metadata": {},
   "outputs": [
    {
     "name": "stdout",
     "output_type": "stream",
     "text": [
      "helleh\n",
      "Yes\n"
     ]
    }
   ],
   "source": [
    "# function which return reverse of a string \n",
    "  \n",
    "def isPalindrome(s): \n",
    "    return s == s[::-1] \n",
    "  \n",
    "  \n",
    "# Driver code \n",
    "s = input()\n",
    "ans = isPalindrome(s) \n",
    "  \n",
    "if ans: \n",
    "    print(\"Yes\") \n",
    "else: \n",
    "    print(\"No\") "
   ]
  },
  {
   "cell_type": "code",
   "execution_count": 23,
   "metadata": {},
   "outputs": [
    {
     "name": "stdout",
     "output_type": "stream",
     "text": [
      "1634\n",
      "1634 is an Armstrong number\n"
     ]
    }
   ],
   "source": [
    "# Python program to check whether the number is Armstrong or not\n",
    "\n",
    "import math\n",
    "number = int(input())\n",
    "result = 0\n",
    "n = 0\n",
    "temp = number;\n",
    "while (temp != 0):\n",
    "    temp=int(temp/10)\n",
    "    n = n + 1\n",
    "\n",
    "#Checking if the number is armstrong\n",
    "\n",
    "temp = number\n",
    "while (temp != 0):\n",
    "    remainder = temp % 10\n",
    "    result = result + math.pow(remainder, n)\n",
    "    temp=int(temp/10)\n",
    "\n",
    "if(result == number):\n",
    "    print(number,\"is an Armstrong number\")\n",
    "else:\n",
    "    print(number,\"is not an Armstrong number\")\n"
   ]
  },
  {
   "cell_type": "code",
   "execution_count": null,
   "metadata": {},
   "outputs": [],
   "source": []
  }
 ],
 "metadata": {
  "kernelspec": {
   "display_name": "Python 3",
   "language": "python",
   "name": "python3"
  },
  "language_info": {
   "codemirror_mode": {
    "name": "ipython",
    "version": 3
   },
   "file_extension": ".py",
   "mimetype": "text/x-python",
   "name": "python",
   "nbconvert_exporter": "python",
   "pygments_lexer": "ipython3",
   "version": "3.7.6"
  }
 },
 "nbformat": 4,
 "nbformat_minor": 4
}
